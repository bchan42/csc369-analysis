{
 "cells": [
  {
   "cell_type": "markdown",
   "metadata": {},
   "source": [
    "- include pdf of analysis once done"
   ]
  },
  {
   "cell_type": "code",
   "execution_count": 1,
   "metadata": {},
   "outputs": [],
   "source": [
    "# all imports\n",
    "\n",
    "import pyarrow.csv as pv\n",
    "import pyarrow.parquet as pq\n",
    "import pyarrow as pa\n",
    "import polars as pl"
   ]
  },
  {
   "cell_type": "code",
   "execution_count": null,
   "metadata": {},
   "outputs": [],
   "source": [
    "# preprocessing function (polars)\n",
    "\n",
    "csv_file = \"2022_place_canvas_history.csv\"\n",
    "parquet_file = \"2022pyarrow.parquet\"\n",
    "\n",
    "DATESTRING_FORMAT = \"%Y-%m-%d %H:%M:%S\"\n",
    "BLOCK_SIZE = 100_000_000\n",
    "\n",
    "read_options = pv.ReadOptions(block_size=BLOCK_SIZE)\n",
    "csv_reader = pv.open_csv(csv_file, read_options=read_options)\n",
    "\n",
    "parquet_writer = None\n",
    "\n",
    "try:\n",
    "    for record_batch in csv_reader:\n",
    "        print(f\"Processing batch with {record_batch.num_rows} rows...\")\n",
    "\n",
    "        df = pl.from_arrow(record_batch)\n",
    "\n",
    "        # convert timstamp to datetime object\n",
    "        df = df.with_columns(\n",
    "            pl.col(\"timestamp\")\n",
    "            .str.replace(r\" UTC$\", \"\")  \n",
    "            .str.strptime(\n",
    "                pl.Datetime, \n",
    "                format=\"%Y-%m-%d %H:%M:%S%.f\",\n",
    "                strict=False\n",
    "            )\n",
    "            .alias(\"timestamp\")\n",
    "        )\n",
    "\n",
    "        # split coordinate into cols 'x', 'y' \n",
    "        df = (\n",
    "            df.filter(\n",
    "                pl.col(\"coordinate\").str.count_matches(\",\") == 1\n",
    "            )\n",
    "            .with_columns(\n",
    "                pl.col(\"coordinate\")\n",
    "                .str.split_exact(\",\", 1)\n",
    "                .struct.field(\"field_0\")\n",
    "                .cast(pl.Int64)\n",
    "                .alias(\"x\"),\n",
    "                pl.col(\"coordinate\")\n",
    "                .str.split_exact(\",\", 1)\n",
    "                .struct.field(\"field_1\")\n",
    "                .cast(pl.Int64)\n",
    "                .alias(\"y\"),\n",
    "            )\n",
    "            .drop(\"coordinate\")\n",
    "            )\n",
    "\n",
    "        # map user_id to ints to save memory\n",
    "        df = df.with_columns(\n",
    "            pl.col('user_id')\n",
    "            .cast(pl.Categorical)  # convert to categorical (assigns unique codes)\n",
    "            .to_physical()         # get int rep\n",
    "            .alias('user_id_int')\n",
    "        )\n",
    "        df = df.drop(\"user_id\") # can drop user_id now\n",
    "\n",
    "        table = df.to_arrow()\n",
    "\n",
    "        if parquet_writer is None:\n",
    "            parquet_writer = pq.ParquetWriter(\n",
    "                parquet_file, \n",
    "                schema=table.schema, \n",
    "                compression=\"zstd\"\n",
    "            )\n",
    "        parquet_writer.write_table(table)\n",
    "\n",
    "finally:\n",
    "    if parquet_writer:\n",
    "        parquet_writer.close()\n",
    "\n",
    "print(f\"Successfully converted {csv_file} to {parquet_file}\")"
   ]
  },
  {
   "cell_type": "code",
   "execution_count": 20,
   "metadata": {},
   "outputs": [
    {
     "name": "stdout",
     "output_type": "stream",
     "text": [
      "Number of rows: 160353085\n",
      "Columns: ['timestamp', 'pixel_color', 'x', 'y', 'user_id_int']\n"
     ]
    }
   ],
   "source": [
    "parquet_file = pq.ParquetFile(\"2022pyarrow.parquet\")\n",
    "\n",
    "row_count = parquet_file.metadata.num_rows\n",
    "columns = parquet_file.schema.names\n",
    "\n",
    "print(f\"Number of rows: {row_count}\")\n",
    "print(f\"Columns: {columns}\")\n",
    "# and parquet is 1.45 GB"
   ]
  },
  {
   "cell_type": "code",
   "execution_count": null,
   "metadata": {},
   "outputs": [],
   "source": [
    "# can retrieve original user_id with: \n",
    "\n",
    "# df.with_columns(\n",
    "#     pl.col('user_id_int')\n",
    "#     .reverse()\n",
    "#     .alias('user_id')\n",
    "# )"
   ]
  },
  {
   "cell_type": "markdown",
   "metadata": {},
   "source": [
    "# What are the top 3 most painted pixels?"
   ]
  },
  {
   "cell_type": "code",
   "execution_count": 8,
   "metadata": {},
   "outputs": [
    {
     "data": {
      "text/html": [
       "<div><style>\n",
       ".dataframe > thead > tr,\n",
       ".dataframe > tbody > tr {\n",
       "  text-align: right;\n",
       "  white-space: pre-wrap;\n",
       "}\n",
       "</style>\n",
       "<small>shape: (5, 5)</small><table border=\"1\" class=\"dataframe\"><thead><tr><th>timestamp</th><th>pixel_color</th><th>x</th><th>y</th><th>user_id_int</th></tr><tr><td>datetime[μs]</td><td>str</td><td>i64</td><td>i64</td><td>u32</td></tr></thead><tbody><tr><td>2022-04-04 00:53:51.577</td><td>&quot;#00CCC0&quot;</td><td>826</td><td>1048</td><td>0</td></tr><tr><td>2022-04-04 00:53:53.758</td><td>&quot;#94B3FF&quot;</td><td>583</td><td>1031</td><td>1</td></tr><tr><td>2022-04-04 00:53:54.685</td><td>&quot;#6A5CFF&quot;</td><td>1873</td><td>558</td><td>2</td></tr><tr><td>2022-04-04 00:54:57.541</td><td>&quot;#009EAA&quot;</td><td>1627</td><td>255</td><td>3</td></tr><tr><td>2022-04-04 00:55:16.307</td><td>&quot;#94B3FF&quot;</td><td>49</td><td>1478</td><td>4</td></tr></tbody></table></div>"
      ],
      "text/plain": [
       "shape: (5, 5)\n",
       "┌─────────────────────────┬─────────────┬──────┬──────┬─────────────┐\n",
       "│ timestamp               ┆ pixel_color ┆ x    ┆ y    ┆ user_id_int │\n",
       "│ ---                     ┆ ---         ┆ ---  ┆ ---  ┆ ---         │\n",
       "│ datetime[μs]            ┆ str         ┆ i64  ┆ i64  ┆ u32         │\n",
       "╞═════════════════════════╪═════════════╪══════╪══════╪═════════════╡\n",
       "│ 2022-04-04 00:53:51.577 ┆ #00CCC0     ┆ 826  ┆ 1048 ┆ 0           │\n",
       "│ 2022-04-04 00:53:53.758 ┆ #94B3FF     ┆ 583  ┆ 1031 ┆ 1           │\n",
       "│ 2022-04-04 00:53:54.685 ┆ #6A5CFF     ┆ 1873 ┆ 558  ┆ 2           │\n",
       "│ 2022-04-04 00:54:57.541 ┆ #009EAA     ┆ 1627 ┆ 255  ┆ 3           │\n",
       "│ 2022-04-04 00:55:16.307 ┆ #94B3FF     ┆ 49   ┆ 1478 ┆ 4           │\n",
       "└─────────────────────────┴─────────────┴──────┴──────┴─────────────┘"
      ]
     },
     "execution_count": 8,
     "metadata": {},
     "output_type": "execute_result"
    }
   ],
   "source": [
    "parquet_file = \"2022pyarrow.parquet\"\n",
    "\n",
    "df = pl.scan_parquet(parquet_file)  # LazyFrame (efficient for big data)\n",
    "df.collect().head()"
   ]
  },
  {
   "cell_type": "code",
   "execution_count": 9,
   "metadata": {},
   "outputs": [
    {
     "data": {
      "text/html": [
       "<div><style>\n",
       ".dataframe > thead > tr,\n",
       ".dataframe > tbody > tr {\n",
       "  text-align: right;\n",
       "  white-space: pre-wrap;\n",
       "}\n",
       "</style>\n",
       "<small>shape: (3, 3)</small><table border=\"1\" class=\"dataframe\"><thead><tr><th>x</th><th>y</th><th>count</th></tr><tr><td>i64</td><td>i64</td><td>u32</td></tr></thead><tbody><tr><td>0</td><td>0</td><td>98807</td></tr><tr><td>359</td><td>564</td><td>69198</td></tr><tr><td>349</td><td>564</td><td>55230</td></tr></tbody></table></div>"
      ],
      "text/plain": [
       "shape: (3, 3)\n",
       "┌─────┬─────┬───────┐\n",
       "│ x   ┆ y   ┆ count │\n",
       "│ --- ┆ --- ┆ ---   │\n",
       "│ i64 ┆ i64 ┆ u32   │\n",
       "╞═════╪═════╪═══════╡\n",
       "│ 0   ┆ 0   ┆ 98807 │\n",
       "│ 359 ┆ 564 ┆ 69198 │\n",
       "│ 349 ┆ 564 ┆ 55230 │\n",
       "└─────┴─────┴───────┘"
      ]
     },
     "execution_count": 9,
     "metadata": {},
     "output_type": "execute_result"
    }
   ],
   "source": [
    "paint_counts = (\n",
    "    df.group_by(['x', 'y'])\n",
    "    .agg(pl.len().alias('count')) # count occurances\n",
    "    .sort('count', descending=True) # sort by count\n",
    "    .limit(3) # top 3 pixels\n",
    ")\n",
    "\n",
    "paint_counts.collect()"
   ]
  },
  {
   "cell_type": "markdown",
   "metadata": {},
   "source": [
    "The top 3 painted pixels are at locations\n",
    "1. (0, 0) painted 98807 times\n",
    "2. (359, 564) painted 69198 times\n",
    "3. (349, 564) painted 55230 times "
   ]
  },
  {
   "cell_type": "markdown",
   "metadata": {},
   "source": [
    "# Actual Analysis: Why were the 3 most painted pixels hit so often?"
   ]
  },
  {
   "cell_type": "code",
   "execution_count": null,
   "metadata": {},
   "outputs": [],
   "source": [
    "# distribution of color counts among pixels"
   ]
  },
  {
   "cell_type": "code",
   "execution_count": null,
   "metadata": {},
   "outputs": [],
   "source": [
    "# confounding variables\n",
    "    # what pixel colors at time (if a bunch of ppl place black pixel around same time, or evenly spread out)\n",
    "    # how pixel location changes between pixel color\n",
    "    # pixel location over time"
   ]
  }
 ],
 "metadata": {
  "kernelspec": {
   "display_name": "Python 3",
   "language": "python",
   "name": "python3"
  },
  "language_info": {
   "codemirror_mode": {
    "name": "ipython",
    "version": 3
   },
   "file_extension": ".py",
   "mimetype": "text/x-python",
   "name": "python",
   "nbconvert_exporter": "python",
   "pygments_lexer": "ipython3",
   "version": "3.12.2"
  }
 },
 "nbformat": 4,
 "nbformat_minor": 2
}

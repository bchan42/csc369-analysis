{
 "cells": [
  {
   "cell_type": "markdown",
   "metadata": {},
   "source": [
    "- include pdf of analysis once done"
   ]
  },
  {
   "cell_type": "code",
   "execution_count": 1,
   "metadata": {},
   "outputs": [],
   "source": [
    "# all imports\n",
    "\n",
    "import pyarrow.csv as pv\n",
    "import pyarrow.parquet as pq\n",
    "import pyarrow as pa\n",
    "import polars as pl"
   ]
  },
  {
   "cell_type": "code",
   "execution_count": null,
   "metadata": {},
   "outputs": [],
   "source": [
    "# preprocessing function (polars)\n",
    "\n",
    "csv_file = \"data/2022_place_canvas_history.csv\"\n",
    "parquet_file = \"data/2022pyarrow.parquet\"\n",
    "\n",
    "DATESTRING_FORMAT = \"%Y-%m-%d %H:%M:%S\"\n",
    "BLOCK_SIZE = 100_000_000\n",
    "\n",
    "read_options = pv.ReadOptions(block_size=BLOCK_SIZE)\n",
    "csv_reader = pv.open_csv(csv_file, read_options=read_options)\n",
    "\n",
    "parquet_writer = None\n",
    "\n",
    "try:\n",
    "    for record_batch in csv_reader:\n",
    "        print(f\"Processing batch with {record_batch.num_rows} rows...\")\n",
    "\n",
    "        df = pl.from_arrow(record_batch)\n",
    "\n",
    "        # convert timstamp to datetime object\n",
    "        df = df.with_columns(\n",
    "            pl.col(\"timestamp\")\n",
    "            .str.replace(r\" UTC$\", \"\")  \n",
    "            .str.strptime(\n",
    "                pl.Datetime, \n",
    "                format=\"%Y-%m-%d %H:%M:%S%.f\",\n",
    "                strict=False\n",
    "            )\n",
    "            .alias(\"timestamp\")\n",
    "        )\n",
    "\n",
    "        # coordinate\n",
    "        df = (\n",
    "            df.filter(\n",
    "                pl.col(\"coordinate\").str.count_matches(\",\") == 1\n",
    "            )\n",
    "            .with_columns(\n",
    "                pl.col(\"coordinate\")\n",
    "                .str.split_exact(\",\", 1)\n",
    "                .struct.field(\"field_0\")\n",
    "                .cast(pl.Int64)\n",
    "                .alias(\"x\"),\n",
    "                pl.col(\"coordinate\")\n",
    "                .str.split_exact(\",\", 1)\n",
    "                .struct.field(\"field_1\")\n",
    "                .cast(pl.Int64)\n",
    "                .alias(\"y\"),\n",
    "            )\n",
    "            .drop(\"coordinate\")\n",
    "            )\n",
    "\n",
    "        # map user_id to ints to save memory\n",
    "        df = df.with_columns(\n",
    "            pl.col('user_id')\n",
    "            # .map_dict(id_to_int) # need to define a data structure that stores unique id's\n",
    "            # .alias('user_id_int')\n",
    "        )\n",
    "\n",
    "        # can drop user_id now\n",
    "        df = df.drop(\"user_id\")\n",
    "\n",
    "        table = df.to_arrow()\n",
    "\n",
    "        if parquet_writer is None:\n",
    "            parquet_writer = pq.ParquetWriter(\n",
    "                parquet_file, \n",
    "                schema=table.schema, \n",
    "                compression=\"zstd\"\n",
    "            )\n",
    "        parquet_writer.write_table(table)\n",
    "\n",
    "finally:\n",
    "    if parquet_writer:\n",
    "        parquet_writer.close()\n",
    "\n",
    "print(f\"Successfully converted {csv_file} to {parquet_file}\")\n"
   ]
  },
  {
   "cell_type": "markdown",
   "metadata": {},
   "source": [
    "# Why were the 3 pixel colors hit so often?\n",
    "- black, red, white"
   ]
  },
  {
   "cell_type": "code",
   "execution_count": null,
   "metadata": {},
   "outputs": [],
   "source": [
    "# distribution of color counts among pixels"
   ]
  },
  {
   "cell_type": "code",
   "execution_count": null,
   "metadata": {},
   "outputs": [],
   "source": [
    "# confounding variables\n",
    "    # what pixel colors at time (if a bunch of ppl place black pixel around same time, or evenly spread out)\n",
    "    # how pixel location changes between pixel color\n",
    "    # pixel location over time"
   ]
  }
 ],
 "metadata": {
  "kernelspec": {
   "display_name": "Python 3",
   "language": "python",
   "name": "python3"
  },
  "language_info": {
   "codemirror_mode": {
    "name": "ipython",
    "version": 3
   },
   "file_extension": ".py",
   "mimetype": "text/x-python",
   "name": "python",
   "nbconvert_exporter": "python",
   "pygments_lexer": "ipython3",
   "version": "3.12.2"
  }
 },
 "nbformat": 4,
 "nbformat_minor": 2
}

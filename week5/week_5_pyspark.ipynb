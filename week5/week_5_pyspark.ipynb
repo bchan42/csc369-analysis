{
 "cells": [
  {
   "cell_type": "markdown",
   "metadata": {},
   "source": [
    "# r/AnarchyChess Analysis\n",
    "- focus on board 2"
   ]
  },
  {
   "cell_type": "code",
   "execution_count": 4,
   "metadata": {},
   "outputs": [],
   "source": [
    "from PIL import Image\n",
    "from pyspark.sql import SparkSession\n",
    "import matplotlib.pyplot as plt\n",
    "from pyspark.sql import functions as F\n",
    "from pyspark.sql.types import TimestampType\n",
    "\n",
    "\n",
    "\n",
    "# import numpy as np\n",
    "# import imageio.v2 as imageio  # for GIF creation\n",
    "# import os\n",
    "# from datetime import datetime\n",
    "# import pandas as pd\n",
    "# import matplotlib.dates as mdates\n",
    "\n",
    "final_canvas = Image.open(\"2022_canvas_final.png\") # load in final r/place 2022 canva"
   ]
  },
  {
   "cell_type": "code",
   "execution_count": 2,
   "metadata": {},
   "outputs": [
    {
     "name": "stderr",
     "output_type": "stream",
     "text": [
      "25/02/10 02:17:44 WARN Utils: Your hostname, Bernettes-MacBook-Pro.local resolves to a loopback address: 127.0.0.1; using 10.144.44.254 instead (on interface en0)\n",
      "25/02/10 02:17:44 WARN Utils: Set SPARK_LOCAL_IP if you need to bind to another address\n",
      "Setting default log level to \"WARN\".\n",
      "To adjust logging level use sc.setLogLevel(newLevel). For SparkR, use setLogLevel(newLevel).\n",
      "25/02/10 02:17:44 WARN NativeCodeLoader: Unable to load native-hadoop library for your platform... using builtin-java classes where applicable\n",
      "25/02/10 02:17:45 WARN Utils: Service 'SparkUI' could not bind on port 4040. Attempting port 4041.\n"
     ]
    },
    {
     "name": "stdout",
     "output_type": "stream",
     "text": [
      "+--------------------+-----------+---+----+-----------+\n",
      "|           timestamp|pixel_color|  x|   y|user_id_int|\n",
      "+--------------------+-----------+---+----+-----------+\n",
      "|2022-04-04 00:53:...|    #00CCC0|826|1048|          0|\n",
      "+--------------------+-----------+---+----+-----------+\n",
      "only showing top 1 row\n",
      "\n"
     ]
    }
   ],
   "source": [
    "from pyspark.sql import SparkSession\n",
    "\n",
    "spark = SparkSession.builder.appName(\"ReadParquet\").getOrCreate() # initialize spark session\n",
    "\n",
    "parquet_file = \"2022pyarrow.parquet\"\n",
    "\n",
    "df = spark.read.parquet(parquet_file)\n",
    "df.show(1)\n"
   ]
  },
  {
   "cell_type": "markdown",
   "metadata": {},
   "source": [
    "## board 2"
   ]
  },
  {
   "cell_type": "code",
   "execution_count": 58,
   "metadata": {},
   "outputs": [
    {
     "data": {
      "image/png": "[encoded data removed]",
      "text/plain": [
       "<Figure size 1000x1000 with 1 Axes>"
      ]
     },
     "metadata": {},
     "output_type": "display_data"
    }
   ],
   "source": [
    "board2 = [(1616, 60)] # center of board\n",
    "\n",
    "width, height = 2000, 100 # zoom into these dim\n",
    "\n",
    "# create figure\n",
    "fig, ax = plt.subplots(figsize=(10, 10))\n",
    "ax.imshow(final_canvas)\n",
    "\n",
    "# mark top pixels\n",
    "for (x, y) in board2:\n",
    "    ax.scatter(x, y, color='red', s=50)  # red dot at pixel location\n",
    "\n",
    "ax.set_xlim(1615, 1717)  # adjust \n",
    "ax.set_ylim(147, 48)\n",
    "plt.show()"
   ]
  },
  {
   "cell_type": "markdown",
   "metadata": {},
   "source": [
    "### Timelapse of Board 2"
   ]
  },
  {
   "cell_type": "code",
   "execution_count": 17,
   "metadata": {},
   "outputs": [
    {
     "name": "stderr",
     "output_type": "stream",
     "text": [
      "[Stage 2:===================================================>     (10 + 1) / 11]\r"
     ]
    },
    {
     "name": "stdout",
     "output_type": "stream",
     "text": [
      "+-------------------+----+---+----------------+\n",
      "|           time_bin|   x|  y|last_pixel_color|\n",
      "+-------------------+----+---+----------------+\n",
      "|2022-04-02 16:30:00|1636|133|         #FF4500|\n",
      "|2022-04-02 16:30:00|1641| 54|         #BE0039|\n",
      "|2022-04-02 16:30:00|1641| 95|         #2450A4|\n",
      "|2022-04-02 16:30:00|1644|122|         #FF3881|\n",
      "|2022-04-02 16:30:00|1646| 74|         #000000|\n",
      "|2022-04-02 16:30:00|1652|144|         #00CC78|\n",
      "|2022-04-02 16:30:00|1677|126|         #00A368|\n",
      "|2022-04-02 16:30:00|1679|125|         #00A368|\n",
      "|2022-04-02 16:30:00|1699| 93|         #FFA800|\n",
      "|2022-04-02 16:30:00|1703|125|         #000000|\n",
      "|2022-04-02 16:30:00|1707|139|         #BE0039|\n",
      "|2022-04-02 16:30:00|1707|141|         #BE0039|\n",
      "|2022-04-02 16:30:00|1714|140|         #FFD635|\n",
      "|2022-04-02 16:31:00|1660|117|         #000000|\n",
      "|2022-04-02 16:31:00|1661|117|         #000000|\n",
      "|2022-04-02 16:31:00|1671| 82|         #FFA800|\n",
      "|2022-04-02 16:31:00|1678|101|         #FFD635|\n",
      "|2022-04-02 16:31:00|1685| 72|         #6A5CFF|\n",
      "|2022-04-02 16:31:00|1691| 82|         #7EED56|\n",
      "|2022-04-02 16:31:00|1691| 85|         #009EAA|\n",
      "+-------------------+----+---+----------------+\n",
      "only showing top 20 rows\n",
      "\n"
     ]
    },
    {
     "name": "stderr",
     "output_type": "stream",
     "text": [
      "                                                                                \r"
     ]
    }
   ],
   "source": [
    "# define board2 coordinates and the filter ranges\n",
    "x_min, x_max = 1615, 1717\n",
    "y_min, y_max = 48, 147\n",
    "\n",
    "# get vals for timelapse\n",
    "df_board2 = df.filter(\n",
    "    (F.col(\"x\") >= x_min) & \n",
    "    (F.col(\"x\") <= x_max) &\n",
    "    (F.col(\"y\") >= y_min) & \n",
    "    (F.col(\"y\") <= y_max) & \n",
    "    (F.col(\"timestamp\").cast(\"timestamp\") >= F.lit(\"2022-04-02 16:30:00\").cast(\"timestamp\"))\n",
    ").withColumn(\n",
    "    \"time_bin\", F.date_trunc(\"minute\", F.col(\"timestamp\")).alias(\"time_bin\")\n",
    ").groupBy(\"time_bin\", \"x\", \"y\").agg(\n",
    "    F.last(\"pixel_color\").alias(\"last_pixel_color\")  # Get the last pixel color per group\n",
    ")\n",
    "\n",
    "df_board2.show()"
   ]
  },
  {
   "cell_type": "code",
   "execution_count": null,
   "metadata": {},
   "outputs": [
    {
     "name": "stderr",
     "output_type": "stream",
     "text": [
      "[Stage 5:==========================================>               (8 + 3) / 11]\r"
     ]
    },
    {
     "name": "stdout",
     "output_type": "stream",
     "text": [
      "+-------------------+----+---+----------------+\n",
      "|           time_bin|   x|  y|last_pixel_color|\n",
      "+-------------------+----+---+----------------+\n",
      "|2022-04-02 16:30:00|1632| 78|         #FFD635|\n",
      "|2022-04-02 16:30:00|1636|129|         #2450A4|\n",
      "|2022-04-02 16:30:00|1636|133|         #FF4500|\n",
      "|2022-04-02 16:30:00|1640| 73|         #000000|\n",
      "|2022-04-02 16:30:00|1641| 54|         #BE0039|\n",
      "|2022-04-02 16:30:00|1641| 95|         #2450A4|\n",
      "|2022-04-02 16:30:00|1644|122|         #FF3881|\n",
      "|2022-04-02 16:30:00|1645| 85|         #FF4500|\n",
      "|2022-04-02 16:30:00|1646| 72|         #000000|\n",
      "|2022-04-02 16:30:00|1646| 74|         #000000|\n",
      "|2022-04-02 16:30:00|1650|101|         #FF4500|\n",
      "|2022-04-02 16:30:00|1651| 90|         #FF4500|\n",
      "|2022-04-02 16:30:00|1652|144|         #00CC78|\n",
      "|2022-04-02 16:30:00|1653|144|         #00CC78|\n",
      "|2022-04-02 16:30:00|1656|129|         #898D90|\n",
      "|2022-04-02 16:30:00|1659| 81|         #FFD635|\n",
      "|2022-04-02 16:30:00|1666| 66|         #00756F|\n",
      "|2022-04-02 16:30:00|1670| 56|         #000000|\n",
      "|2022-04-02 16:30:00|1673| 82|         #FFA800|\n",
      "|2022-04-02 16:30:00|1674| 82|         #FFA800|\n",
      "+-------------------+----+---+----------------+\n",
      "only showing top 20 rows\n",
      "\n"
     ]
    },
    {
     "name": "stderr",
     "output_type": "stream",
     "text": [
      "                                                                                \r"
     ]
    }
   ],
   "source": [
    "# define board2 coordinates and the filter ranges\n",
    "x_min, x_max = 1615, 1717\n",
    "y_min, y_max = 48, 147\n",
    "\n",
    "# get vals for timelapse\n",
    "df_board2 = df.filter(\n",
    "    (F.col(\"x\") >= x_min) & \n",
    "    (F.col(\"x\") <= x_max) &\n",
    "    (F.col(\"y\") >= y_min) & \n",
    "    (F.col(\"y\") <= y_max) & \n",
    "    (F.col(\"timestamp\").cast(\"timestamp\") >= F.lit(\"2022-04-02 16:30:00\").cast(\"timestamp\"))\n",
    ").withColumn(\n",
    "    \"time_bin\", \n",
    "    F.date_format(\"timestamp\", \"yyyy-MM-dd HH:mm:00\")  # Format to the beginning of the hour\n",
    ").withColumn(\n",
    "    \"time_bin\", \n",
    "    F.when(F.minute(\"timestamp\") % 30 == 0, F.col(\"time_bin\")).otherwise(\n",
    "        F.date_add(F.col(\"time_bin\"), 1)\n",
    "    )  # Adjust for half-hour\n",
    ")\n",
    "\n",
    "df_board2 = df_board2.groupBy(\"time_bin\", \"x\", \"y\").agg(\n",
    "    F.last(\"pixel_color\").alias(\"last_pixel_color\")  # Get the last pixel color per group\n",
    ")\n",
    "\n",
    "# Show results (or use .collect() for actual data in a list form)\n",
    "df_board2.show()\n"
   ]
  },
  {
   "cell_type": "code",
   "execution_count": 25,
   "metadata": {},
   "outputs": [
    {
     "name": "stderr",
     "output_type": "stream",
     "text": [
      "[Stage 26:==============================================>          (9 + 2) / 11]\r"
     ]
    },
    {
     "name": "stdout",
     "output_type": "stream",
     "text": [
      "+-------------------+----+---+----------------+\n",
      "|           time_bin|   x|  y|last_pixel_color|\n",
      "+-------------------+----+---+----------------+\n",
      "|2022-04-02 16:30:00|1641| 54|         #BE0039|\n",
      "|2022-04-02 16:30:00|1645| 85|         #FF4500|\n",
      "|2022-04-02 16:30:00|1651| 90|         #FF4500|\n",
      "|2022-04-02 16:30:00|1670| 56|         #000000|\n",
      "|2022-04-02 16:30:00|1677|125|         #00A368|\n",
      "|2022-04-02 16:30:00|1699| 93|         #FFA800|\n",
      "|2022-04-02 16:30:00|1703|125|         #000000|\n",
      "|2022-04-02 16:30:00|1704| 59|         #FF4500|\n",
      "|2022-04-02 16:30:00|1707|139|         #BE0039|\n",
      "|2022-04-02 16:30:00|1707|141|         #BE0039|\n",
      "|2022-04-02 16:30:00|1711| 52|         #000000|\n",
      "|2022-04-02 16:30:00|1715|125|         #00A368|\n",
      "|2022-04-02 16:31:00|1618| 62|         #7EED56|\n",
      "|2022-04-02 16:31:00|1653|141|         #FF4500|\n",
      "|2022-04-02 16:31:00|1661|117|         #000000|\n",
      "|2022-04-02 16:31:00|1662|117|         #000000|\n",
      "|2022-04-02 16:31:00|1671| 82|         #FFA800|\n",
      "|2022-04-02 16:31:00|1676|101|         #FFD635|\n",
      "|2022-04-02 16:31:00|1677| 98|         #FFD635|\n",
      "|2022-04-02 16:31:00|1691| 82|         #7EED56|\n",
      "+-------------------+----+---+----------------+\n",
      "only showing top 20 rows\n",
      "\n"
     ]
    },
    {
     "name": "stderr",
     "output_type": "stream",
     "text": [
      "                                                                                \r"
     ]
    }
   ],
   "source": [
    "new = df.filter(\n",
    "    (F.col(\"x\") >= x_min) & \n",
    "    (F.col(\"x\") <= x_max) &\n",
    "    (F.col(\"y\") >= y_min) & \n",
    "    (F.col(\"y\") <= y_max) & \n",
    "    (F.col(\"timestamp\").cast(\"timestamp\") >= F.lit(\"2022-04-02 16:30:00\").cast(\"timestamp\"))\n",
    ").withColumn(\n",
    "    \"time_bin\", \n",
    "    F.date_format(\"timestamp\", \"yyyy-MM-dd HH:mm:00\")  # Truncate to nearest minute\n",
    ")\n",
    "\n",
    "new = new.groupBy(\"time_bin\", \"x\", \"y\").agg(\n",
    "    F.last(\"pixel_color\").alias(\"last_pixel_color\")  # Get the last pixel color per group\n",
    ")\n",
    "\n",
    "# Show the results\n",
    "new.show()"
   ]
  },
  {
   "cell_type": "markdown",
   "metadata": {},
   "source": [
    "### Data Visualizations "
   ]
  },
  {
   "cell_type": "markdown",
   "metadata": {},
   "source": [
    "data visualization ideas:\n",
    "1. pixel takeover rate (what colors used by arkeanos)\n",
    "2. spacial spread (heatmap)\n",
    "3. competition over takeover\n",
    "4. bot detection\n",
    "5. player involvement (could see if other users were helping)\n",
    "6. how coordinated was takeover (look at time it took) :/"
   ]
  },
  {
   "cell_type": "markdown",
   "metadata": {},
   "source": [
    "1. pixel takeover rate"
   ]
  },
  {
   "cell_type": "code",
   "execution_count": null,
   "metadata": {},
   "outputs": [
    {
     "name": "stderr",
     "output_type": "stream",
     "text": [
      "[Stage 11:==============================================>          (9 + 2) / 11]\r"
     ]
    },
    {
     "name": "stdout",
     "output_type": "stream",
     "text": [
      "+-------------------+----+---+----------------+\n",
      "|           time_bin|   x|  y|last_pixel_color|\n",
      "+-------------------+----+---+----------------+\n",
      "|2022-04-04 20:00:00|1615| 50|         #000000|\n",
      "|2022-04-04 20:00:00|1615| 51|         #000000|\n",
      "|2022-04-04 20:00:00|1616|110|         #000000|\n",
      "|2022-04-04 20:00:00|1617| 49|         #000000|\n",
      "|2022-04-04 20:00:00|1617| 51|         #000000|\n",
      "|2022-04-04 20:00:00|1617| 58|         #000000|\n",
      "|2022-04-04 20:00:00|1617| 59|         #000000|\n",
      "|2022-04-04 20:00:00|1619| 52|         #000000|\n",
      "|2022-04-04 20:00:00|1619|129|         #000000|\n",
      "|2022-04-04 20:00:00|1620|123|         #000000|\n",
      "|2022-04-04 20:00:00|1621| 91|         #000000|\n",
      "|2022-04-04 20:00:00|1622| 53|         #000000|\n",
      "|2022-04-04 20:00:00|1622| 56|         #000000|\n",
      "|2022-04-04 20:00:00|1622| 57|         #000000|\n",
      "|2022-04-04 20:00:00|1622| 82|         #00CC78|\n",
      "|2022-04-04 20:00:00|1622| 88|         #00CC78|\n",
      "|2022-04-04 20:00:00|1622|143|         #000000|\n",
      "|2022-04-04 20:00:00|1622|146|         #000000|\n",
      "|2022-04-04 20:00:00|1623| 50|         #FF4500|\n",
      "|2022-04-04 20:00:00|1623|112|         #00A368|\n",
      "+-------------------+----+---+----------------+\n",
      "only showing top 20 rows\n",
      "\n"
     ]
    },
    {
     "name": "stderr",
     "output_type": "stream",
     "text": [
      "                                                                                \r"
     ]
    }
   ],
   "source": [
    "# Define coordinate ranges and timeframes\n",
    "x_min, x_max = 1615, 1717\n",
    "y_min, y_max = 48, 147\n",
    "\n",
    "start_timeframe = \"2022-04-04 20:00:00\"\n",
    "end_timeframe = \"2022-04-04 20:30:00\"\n",
    "\n",
    "# Filter and process the dataframe\n",
    "arkeanos_data = df.filter(\n",
    "    (F.col(\"x\") >= x_min) & (F.col(\"x\") <= x_max) &\n",
    "    (F.col(\"y\") >= y_min) & (F.col(\"y\") <= y_max) &  # Filter through dimensions\n",
    "    (F.col(\"timestamp\") >= F.lit(start_timeframe).cast(TimestampType())) & \n",
    "    (F.col(\"timestamp\") <= F.lit(end_timeframe).cast(TimestampType()))\n",
    ").withColumn(\n",
    "    \"time_bin\", \n",
    "    F.date_format(\"timestamp\", \"yyyy-MM-dd HH:mm:00\")  # Truncate to nearest minute\n",
    ").groupBy(\n",
    "    \"time_bin\", \"x\", \"y\"\n",
    ").agg(\n",
    "    F.last(\"pixel_color\").alias(\"last_pixel_color\")  # Get last pixel color per 1-minute bin\n",
    ")\n",
    "\n",
    "# Show the resulting dataframe\n",
    "arkeanos_data.show()"
   ]
  },
  {
   "cell_type": "code",
   "execution_count": 23,
   "metadata": {},
   "outputs": [
    {
     "name": "stderr",
     "output_type": "stream",
     "text": [
      "[Stage 20:==============================================>          (9 + 2) / 11]\r"
     ]
    },
    {
     "name": "stdout",
     "output_type": "stream",
     "text": [
      "+----------------+-----------+\n",
      "|last_pixel_color|color_count|\n",
      "+----------------+-----------+\n",
      "|         #000000|       5017|\n",
      "|         #00A368|       2347|\n",
      "|         #00CC78|       2028|\n",
      "|         #FFFFFF|       1186|\n",
      "|         #7EED56|        620|\n",
      "|         #FFF8B8|        430|\n",
      "|         #FFD635|        409|\n",
      "|         #FFA800|        366|\n",
      "|         #51E9F4|        339|\n",
      "|         #D4D7D9|        270|\n",
      "+----------------+-----------+\n",
      "\n",
      "{'#D4D7D9', '#51E9F4', '#000000', '#FFD635', '#00CC78', '#7EED56', '#FFF8B8', '#FFA800', '#FFFFFF', '#00A368'}\n"
     ]
    },
    {
     "name": "stderr",
     "output_type": "stream",
     "text": [
      "                                                                                \r"
     ]
    }
   ],
   "source": [
    "# Group by last_pixel_color, count occurrences, and sort by count\n",
    "color_counts = arkeanos_data.groupBy(\"last_pixel_color\").agg(\n",
    "    F.count(\"last_pixel_color\").alias(\"color_count\")\n",
    ").orderBy(F.col(\"color_count\"), ascending=False)  # Sort by color_count in descending order\n",
    "\n",
    "# Show the top 10 colors\n",
    "top_colors = color_counts.limit(10)\n",
    "\n",
    "# Convert top_colors to a set of colors\n",
    "arkeanos_colors = set([row[\"last_pixel_color\"] for row in top_colors.collect()])\n",
    "\n",
    "# Print top colors\n",
    "top_colors.show()\n",
    "print(arkeanos_colors)"
   ]
  },
  {
   "cell_type": "code",
   "execution_count": 24,
   "metadata": {},
   "outputs": [
    {
     "name": "stdout",
     "output_type": "stream",
     "text": [
      "{'#D4D7D9', '#51E9F4', '#000000', '#FFD635', '#00CC78', '#7EED56', '#FFF8B8', '#FFA800', '#FFFFFF', '#00A368'}\n"
     ]
    }
   ],
   "source": [
    "print(arkeanos_colors)"
   ]
  },
  {
   "cell_type": "code",
   "execution_count": 28,
   "metadata": {},
   "outputs": [
    {
     "ename": "AnalysisException",
     "evalue": "[UNRESOLVED_COLUMN.WITH_SUGGESTION] A column or function parameter with name `pixel_color` cannot be resolved. Did you mean one of the following? [`last_pixel_color`, `color_count`].",
     "output_type": "error",
     "traceback": [
      "\u001b[0;31m---------------------------------------------------------------------------\u001b[0m",
      "\u001b[0;31mAnalysisException\u001b[0m                         Traceback (most recent call last)",
      "Cell \u001b[0;32mIn[28], line 6\u001b[0m\n\u001b[1;32m      3\u001b[0m \u001b[38;5;28;01mimport\u001b[39;00m \u001b[38;5;21;01mmatplotlib\u001b[39;00m\u001b[38;5;21;01m.\u001b[39;00m\u001b[38;5;21;01mpyplot\u001b[39;00m \u001b[38;5;28;01mas\u001b[39;00m \u001b[38;5;21;01mplt\u001b[39;00m\n\u001b[1;32m      5\u001b[0m \u001b[38;5;66;03m# Assuming arkeanos_colors is a set of top colors (as you have created earlier)\u001b[39;00m\n\u001b[0;32m----> 6\u001b[0m arkeanos_colors \u001b[38;5;241m=\u001b[39m \u001b[38;5;28mset\u001b[39m(\u001b[43mtop_colors\u001b[49m\u001b[43m[\u001b[49m\u001b[38;5;124;43m\"\u001b[39;49m\u001b[38;5;124;43mpixel_color\u001b[39;49m\u001b[38;5;124;43m\"\u001b[39;49m\u001b[43m]\u001b[49m)\n\u001b[1;32m      8\u001b[0m \u001b[38;5;66;03m# Filter the data based on time range and coordinates\u001b[39;00m\n\u001b[1;32m      9\u001b[0m arkeanos_data \u001b[38;5;241m=\u001b[39m df\u001b[38;5;241m.\u001b[39mfilter(\n\u001b[1;32m     10\u001b[0m     (F\u001b[38;5;241m.\u001b[39mcol(\u001b[38;5;124m\"\u001b[39m\u001b[38;5;124mx\u001b[39m\u001b[38;5;124m\"\u001b[39m) \u001b[38;5;241m>\u001b[39m\u001b[38;5;241m=\u001b[39m x_min) \u001b[38;5;241m&\u001b[39m (F\u001b[38;5;241m.\u001b[39mcol(\u001b[38;5;124m\"\u001b[39m\u001b[38;5;124mx\u001b[39m\u001b[38;5;124m\"\u001b[39m) \u001b[38;5;241m<\u001b[39m\u001b[38;5;241m=\u001b[39m x_max) \u001b[38;5;241m&\u001b[39m\n\u001b[1;32m     11\u001b[0m     (F\u001b[38;5;241m.\u001b[39mcol(\u001b[38;5;124m\"\u001b[39m\u001b[38;5;124my\u001b[39m\u001b[38;5;124m\"\u001b[39m) \u001b[38;5;241m>\u001b[39m\u001b[38;5;241m=\u001b[39m y_min) \u001b[38;5;241m&\u001b[39m (F\u001b[38;5;241m.\u001b[39mcol(\u001b[38;5;124m\"\u001b[39m\u001b[38;5;124my\u001b[39m\u001b[38;5;124m\"\u001b[39m) \u001b[38;5;241m<\u001b[39m\u001b[38;5;241m=\u001b[39m y_max) \u001b[38;5;241m&\u001b[39m\n\u001b[1;32m     12\u001b[0m     (F\u001b[38;5;241m.\u001b[39mcol(\u001b[38;5;124m\"\u001b[39m\u001b[38;5;124mtimestamp\u001b[39m\u001b[38;5;124m\"\u001b[39m) \u001b[38;5;241m>\u001b[39m\u001b[38;5;241m=\u001b[39m start_timeframe) \u001b[38;5;241m&\u001b[39m \n\u001b[1;32m     13\u001b[0m     (F\u001b[38;5;241m.\u001b[39mcol(\u001b[38;5;124m\"\u001b[39m\u001b[38;5;124mtimestamp\u001b[39m\u001b[38;5;124m\"\u001b[39m) \u001b[38;5;241m<\u001b[39m\u001b[38;5;241m=\u001b[39m end_timeframe)\n\u001b[1;32m     14\u001b[0m )\n",
      "File \u001b[0;32m/Library/Frameworks/Python.framework/Versions/3.12/lib/python3.12/site-packages/pyspark/sql/dataframe.py:3080\u001b[0m, in \u001b[0;36mDataFrame.__getitem__\u001b[0;34m(self, item)\u001b[0m\n\u001b[1;32m   3008\u001b[0m \u001b[38;5;250m\u001b[39m\u001b[38;5;124;03m\"\"\"Returns the column as a :class:`Column`.\u001b[39;00m\n\u001b[1;32m   3009\u001b[0m \n\u001b[1;32m   3010\u001b[0m \u001b[38;5;124;03m.. versionadded:: 1.3.0\u001b[39;00m\n\u001b[0;32m   (...)\u001b[0m\n\u001b[1;32m   3077\u001b[0m \u001b[38;5;124;03m+---+----+\u001b[39;00m\n\u001b[1;32m   3078\u001b[0m \u001b[38;5;124;03m\"\"\"\u001b[39;00m\n\u001b[1;32m   3079\u001b[0m \u001b[38;5;28;01mif\u001b[39;00m \u001b[38;5;28misinstance\u001b[39m(item, \u001b[38;5;28mstr\u001b[39m):\n\u001b[0;32m-> 3080\u001b[0m     jc \u001b[38;5;241m=\u001b[39m \u001b[38;5;28;43mself\u001b[39;49m\u001b[38;5;241;43m.\u001b[39;49m\u001b[43m_jdf\u001b[49m\u001b[38;5;241;43m.\u001b[39;49m\u001b[43mapply\u001b[49m\u001b[43m(\u001b[49m\u001b[43mitem\u001b[49m\u001b[43m)\u001b[49m\n\u001b[1;32m   3081\u001b[0m     \u001b[38;5;28;01mreturn\u001b[39;00m Column(jc)\n\u001b[1;32m   3082\u001b[0m \u001b[38;5;28;01melif\u001b[39;00m \u001b[38;5;28misinstance\u001b[39m(item, Column):\n",
      "File \u001b[0;32m/Library/Frameworks/Python.framework/Versions/3.12/lib/python3.12/site-packages/py4j/java_gateway.py:1322\u001b[0m, in \u001b[0;36mJavaMember.__call__\u001b[0;34m(self, *args)\u001b[0m\n\u001b[1;32m   1316\u001b[0m command \u001b[38;5;241m=\u001b[39m proto\u001b[38;5;241m.\u001b[39mCALL_COMMAND_NAME \u001b[38;5;241m+\u001b[39m\\\n\u001b[1;32m   1317\u001b[0m     \u001b[38;5;28mself\u001b[39m\u001b[38;5;241m.\u001b[39mcommand_header \u001b[38;5;241m+\u001b[39m\\\n\u001b[1;32m   1318\u001b[0m     args_command \u001b[38;5;241m+\u001b[39m\\\n\u001b[1;32m   1319\u001b[0m     proto\u001b[38;5;241m.\u001b[39mEND_COMMAND_PART\n\u001b[1;32m   1321\u001b[0m answer \u001b[38;5;241m=\u001b[39m \u001b[38;5;28mself\u001b[39m\u001b[38;5;241m.\u001b[39mgateway_client\u001b[38;5;241m.\u001b[39msend_command(command)\n\u001b[0;32m-> 1322\u001b[0m return_value \u001b[38;5;241m=\u001b[39m \u001b[43mget_return_value\u001b[49m\u001b[43m(\u001b[49m\n\u001b[1;32m   1323\u001b[0m \u001b[43m    \u001b[49m\u001b[43manswer\u001b[49m\u001b[43m,\u001b[49m\u001b[43m \u001b[49m\u001b[38;5;28;43mself\u001b[39;49m\u001b[38;5;241;43m.\u001b[39;49m\u001b[43mgateway_client\u001b[49m\u001b[43m,\u001b[49m\u001b[43m \u001b[49m\u001b[38;5;28;43mself\u001b[39;49m\u001b[38;5;241;43m.\u001b[39;49m\u001b[43mtarget_id\u001b[49m\u001b[43m,\u001b[49m\u001b[43m \u001b[49m\u001b[38;5;28;43mself\u001b[39;49m\u001b[38;5;241;43m.\u001b[39;49m\u001b[43mname\u001b[49m\u001b[43m)\u001b[49m\n\u001b[1;32m   1325\u001b[0m \u001b[38;5;28;01mfor\u001b[39;00m temp_arg \u001b[38;5;129;01min\u001b[39;00m temp_args:\n\u001b[1;32m   1326\u001b[0m     \u001b[38;5;28;01mif\u001b[39;00m \u001b[38;5;28mhasattr\u001b[39m(temp_arg, \u001b[38;5;124m\"\u001b[39m\u001b[38;5;124m_detach\u001b[39m\u001b[38;5;124m\"\u001b[39m):\n",
      "File \u001b[0;32m/Library/Frameworks/Python.framework/Versions/3.12/lib/python3.12/site-packages/pyspark/errors/exceptions/captured.py:185\u001b[0m, in \u001b[0;36mcapture_sql_exception.<locals>.deco\u001b[0;34m(*a, **kw)\u001b[0m\n\u001b[1;32m    181\u001b[0m converted \u001b[38;5;241m=\u001b[39m convert_exception(e\u001b[38;5;241m.\u001b[39mjava_exception)\n\u001b[1;32m    182\u001b[0m \u001b[38;5;28;01mif\u001b[39;00m \u001b[38;5;129;01mnot\u001b[39;00m \u001b[38;5;28misinstance\u001b[39m(converted, UnknownException):\n\u001b[1;32m    183\u001b[0m     \u001b[38;5;66;03m# Hide where the exception came from that shows a non-Pythonic\u001b[39;00m\n\u001b[1;32m    184\u001b[0m     \u001b[38;5;66;03m# JVM exception message.\u001b[39;00m\n\u001b[0;32m--> 185\u001b[0m     \u001b[38;5;28;01mraise\u001b[39;00m converted \u001b[38;5;28;01mfrom\u001b[39;00m \u001b[38;5;28;01mNone\u001b[39;00m\n\u001b[1;32m    186\u001b[0m \u001b[38;5;28;01melse\u001b[39;00m:\n\u001b[1;32m    187\u001b[0m     \u001b[38;5;28;01mraise\u001b[39;00m\n",
      "\u001b[0;31mAnalysisException\u001b[0m: [UNRESOLVED_COLUMN.WITH_SUGGESTION] A column or function parameter with name `pixel_color` cannot be resolved. Did you mean one of the following? [`last_pixel_color`, `color_count`]."
     ]
    }
   ],
   "source": [
    "from pyspark.sql import functions as F\n",
    "from pyspark.sql.types import IntegerType\n",
    "import matplotlib.pyplot as plt\n",
    "\n",
    "# Assuming arkeanos_colors is a set of top colors (as you have created earlier)\n",
    "arkeanos_colors = set(top_colors[\"pixel_color\"])\n",
    "\n",
    "# Filter the data based on time range and coordinates\n",
    "arkeanos_data = df.filter(\n",
    "    (F.col(\"x\") >= x_min) & (F.col(\"x\") <= x_max) &\n",
    "    (F.col(\"y\") >= y_min) & (F.col(\"y\") <= y_max) &\n",
    "    (F.col(\"timestamp\") >= start_timeframe) & \n",
    "    (F.col(\"timestamp\") <= end_timeframe)\n",
    ")\n",
    "\n",
    "# Add the 'is_arkeanos' column to mark if pixel_color is in arkeanos_colors\n",
    "arkeanos_data = arkeanos_data.withColumn(\n",
    "    \"is_arkeanos\", F.col(\"pixel_color\").isin(arkeanos_colors).cast(IntegerType())\n",
    ")\n",
    "\n",
    "# Create 1-minute time bins (you can adjust this to whatever granularity you need)\n",
    "arkeanos_data = arkeanos_data.withColumn(\n",
    "    \"time_bin\", F.date_trunc(\"minute\", F.col(\"timestamp\"))\n",
    ")\n",
    "\n",
    "# Group by time_bin and sum the 'is_arkeanos' column to track Arkeanos growth\n",
    "growth_over_time = arkeanos_data.groupBy(\"time_bin\").agg(\n",
    "    F.sum(\"is_arkeanos\").alias(\"arkeanos_growth\")\n",
    ")\n",
    "\n",
    "# Convert the result to Pandas for plotting\n",
    "growth_over_time_pd = growth_over_time.toPandas()\n",
    "\n",
    "# Plot the growth rate over time\n",
    "plt.figure(figsize=(12, 6))\n",
    "plt.plot(growth_over_time_pd[\"time_bin\"], growth_over_time_pd[\"arkeanos_growth\"], label=\"Arkeanos Growth Rate\")\n",
    "plt.xlabel(\"Time\")\n",
    "plt.ylabel(\"Arkeanos Pixel Count\")\n",
    "plt.title(\"Arkeanos Takeover Rate Over Time\")\n",
    "plt.xticks(rotation=45)\n",
    "plt.tight_layout()\n",
    "plt.legend()\n",
    "plt.show()\n"
   ]
  },
  {
   "cell_type": "code",
   "execution_count": 95,
   "metadata": {},
   "outputs": [
    {
     "name": "stderr",
     "output_type": "stream",
     "text": [
      "25/02/10 02:15:23 WARN SparkSession: Using an existing Spark session; only runtime SQL configurations will take effect.\n"
     ]
    },
    {
     "ename": "AttributeError",
     "evalue": "'DataFrame' object has no attribute 'withColumn'",
     "output_type": "error",
     "traceback": [
      "\u001b[0;31m---------------------------------------------------------------------------\u001b[0m",
      "\u001b[0;31mAttributeError\u001b[0m                            Traceback (most recent call last)",
      "Cell \u001b[0;32mIn[95], line 11\u001b[0m\n\u001b[1;32m      8\u001b[0m arkeanos_colors \u001b[38;5;241m=\u001b[39m [\u001b[38;5;124m'\u001b[39m\u001b[38;5;124m#2450A4\u001b[39m\u001b[38;5;124m'\u001b[39m, \u001b[38;5;124m'\u001b[39m\u001b[38;5;124m#00CC78\u001b[39m\u001b[38;5;124m'\u001b[39m, \u001b[38;5;124m'\u001b[39m\u001b[38;5;124m#FF4500\u001b[39m\u001b[38;5;124m'\u001b[39m, \u001b[38;5;124m'\u001b[39m\u001b[38;5;124m#FFA800\u001b[39m\u001b[38;5;124m'\u001b[39m, \u001b[38;5;124m'\u001b[39m\u001b[38;5;124m#000000\u001b[39m\u001b[38;5;124m'\u001b[39m]\n\u001b[1;32m     10\u001b[0m \u001b[38;5;66;03m# Add the 'is_arkeanos' column to the Spark DataFrame\u001b[39;00m\n\u001b[0;32m---> 11\u001b[0m new_with_arkeanos \u001b[38;5;241m=\u001b[39m \u001b[43mnew\u001b[49m\u001b[38;5;241;43m.\u001b[39;49m\u001b[43mwithColumn\u001b[49m(\n\u001b[1;32m     12\u001b[0m     \u001b[38;5;124m'\u001b[39m\u001b[38;5;124mis_arkeanos\u001b[39m\u001b[38;5;124m'\u001b[39m, \n\u001b[1;32m     13\u001b[0m     when(col(\u001b[38;5;124m'\u001b[39m\u001b[38;5;124mpixel_color\u001b[39m\u001b[38;5;124m'\u001b[39m)\u001b[38;5;241m.\u001b[39misin(arkeanos_colors), \u001b[38;5;241m1\u001b[39m)\u001b[38;5;241m.\u001b[39motherwise(\u001b[38;5;241m0\u001b[39m)\n\u001b[1;32m     14\u001b[0m )\n\u001b[1;32m     16\u001b[0m \u001b[38;5;66;03m# Group by 'time_bin' and calculate the sum of 'is_arkeanos'\u001b[39;00m\n\u001b[1;32m     17\u001b[0m growth_over_time \u001b[38;5;241m=\u001b[39m new_with_arkeanos\u001b[38;5;241m.\u001b[39mgroupBy(\u001b[38;5;124m'\u001b[39m\u001b[38;5;124mtime_bin\u001b[39m\u001b[38;5;124m'\u001b[39m)\u001b[38;5;241m.\u001b[39magg(\n\u001b[1;32m     18\u001b[0m     _sum(\u001b[38;5;124m'\u001b[39m\u001b[38;5;124mis_arkeanos\u001b[39m\u001b[38;5;124m'\u001b[39m)\u001b[38;5;241m.\u001b[39malias(\u001b[38;5;124m'\u001b[39m\u001b[38;5;124markeanos_growth\u001b[39m\u001b[38;5;124m'\u001b[39m)\n\u001b[1;32m     19\u001b[0m )\n",
      "\u001b[0;31mAttributeError\u001b[0m: 'DataFrame' object has no attribute 'withColumn'"
     ]
    }
   ],
   "source": [
    "from pyspark.sql import SparkSession\n",
    "from pyspark.sql.functions import when, col, sum as _sum\n",
    "\n",
    "# Initialize Spark session\n",
    "spark = SparkSession.builder.appName(\"ArkeanosGrowth\").getOrCreate()\n",
    "\n",
    "# Assuming 'new' is a Spark DataFrame, create a new column 'is_arkeanos'\n",
    "arkeanos_colors = ['#2450A4', '#00CC78', '#FF4500', '#FFA800', '#000000']\n",
    "\n",
    "# Add the 'is_arkeanos' column to the Spark DataFrame\n",
    "new_with_arkeanos = new.withColumn(\n",
    "    'is_arkeanos', \n",
    "    when(col('pixel_color').isin(arkeanos_colors), 1).otherwise(0)\n",
    ")\n",
    "\n",
    "# Group by 'time_bin' and calculate the sum of 'is_arkeanos'\n",
    "growth_over_time = new_with_arkeanos.groupBy('time_bin').agg(\n",
    "    _sum('is_arkeanos').alias('arkeanos_growth')\n",
    ")\n",
    "\n",
    "# Convert the Spark DataFrame to Pandas for plotting\n",
    "growth_over_time_pd = growth_over_time.toPandas()\n",
    "\n",
    "# Plotting the growth rate\n",
    "import matplotlib.pyplot as plt\n",
    "\n",
    "plt.figure(figsize=(12, 6))\n",
    "plt.plot(growth_over_time_pd[\"time_bin\"], growth_over_time_pd[\"arkeanos_growth\"], label=\"Arkeanos Growth Rate\")\n",
    "plt.xlabel(\"Time\")\n",
    "plt.ylabel(\"Arkeanos Pixel Count\")\n",
    "plt.title(\"Arkeanos Takeover Rate Over Time\")\n",
    "plt.xticks(rotation=45)\n",
    "plt.tight_layout()\n",
    "plt.legend()\n",
    "plt.show()\n"
   ]
  },
  {
   "cell_type": "code",
   "execution_count": 68,
   "metadata": {},
   "outputs": [
    {
     "data": {
      "image/png": "[encoded data removed]",
      "text/plain": [
       "<Figure size 1200x600 with 1 Axes>"
      ]
     },
     "metadata": {},
     "output_type": "display_data"
    }
   ],
   "source": [
    "plt.figure(figsize=(12, 6))\n",
    "plt.plot(growth_over_time_pd[\"time_bin\"], growth_over_time_pd[\"arkeanos_growth\"], label=\"Arkeanos Growth Rate\")\n",
    "plt.xlabel(\"Time\")\n",
    "plt.ylabel(\"Arkeanos Pixel Count\")\n",
    "plt.title(\"Arkeanos Takeover Rate Over Time (Zoomed In)\")\n",
    "\n",
    "plt.xlim(pd.to_datetime(\"2022-04-04 19:00:00\"), pd.to_datetime(\"2022-04-04 22:00:00\")) # zoom in\n",
    "plt.gca().xaxis.set_major_locator(mdates.MinuteLocator(interval=10)) # 30 min separator\n",
    "plt.gca().xaxis.set_major_formatter(mdates.DateFormatter(\"%Y-%m-%d %H:%M\")) # reformat x-axis \n",
    "plt.xticks(rotation=45) # rotate\n",
    "\n",
    "plt.tight_layout()\n",
    "plt.legend()\n",
    "plt.show()"
   ]
  },
  {
   "cell_type": "markdown",
   "metadata": {},
   "source": [
    "- Was the takeover sudden (viral spread) or gradual?\n",
    "    - sudden at time 2022-04-04 19:30\n",
    "- Was there resistance (temporary decline, slow growth)?\n",
    "    - pretty much no resistance, as white out soon\n",
    "- What was the peak takeover period\n",
    "    - 2022-04-04 19:30 - 2022-04-04 20:20 (30 min)"
   ]
  },
  {
   "cell_type": "markdown",
   "metadata": {},
   "source": [
    "2. bot detection?\n",
    "- high freq of pixel changes sugget bot activity?"
   ]
  },
  {
   "cell_type": "code",
   "execution_count": 69,
   "metadata": {},
   "outputs": [
    {
     "data": {
      "text/html": [
       "<div><style>\n",
       ".dataframe > thead > tr,\n",
       ".dataframe > tbody > tr {\n",
       "  text-align: right;\n",
       "  white-space: pre-wrap;\n",
       "}\n",
       "</style>\n",
       "<small>shape: (10, 3)</small><table border=\"1\" class=\"dataframe\"><thead><tr><th>x</th><th>y</th><th>time_bin_count</th></tr><tr><td>i64</td><td>i64</td><td>u32</td></tr></thead><tbody><tr><td>1672</td><td>76</td><td>30</td></tr><tr><td>1672</td><td>77</td><td>30</td></tr><tr><td>1671</td><td>77</td><td>26</td></tr><tr><td>1671</td><td>76</td><td>23</td></tr><tr><td>1651</td><td>89</td><td>21</td></tr><tr><td>1673</td><td>76</td><td>21</td></tr><tr><td>1677</td><td>133</td><td>19</td></tr><tr><td>1652</td><td>90</td><td>18</td></tr><tr><td>1672</td><td>78</td><td>18</td></tr><tr><td>1652</td><td>91</td><td>18</td></tr></tbody></table></div>"
      ],
      "text/plain": [
       "shape: (10, 3)\n",
       "┌──────┬─────┬────────────────┐\n",
       "│ x    ┆ y   ┆ time_bin_count │\n",
       "│ ---  ┆ --- ┆ ---            │\n",
       "│ i64  ┆ i64 ┆ u32            │\n",
       "╞══════╪═════╪════════════════╡\n",
       "│ 1672 ┆ 76  ┆ 30             │\n",
       "│ 1672 ┆ 77  ┆ 30             │\n",
       "│ 1671 ┆ 77  ┆ 26             │\n",
       "│ 1671 ┆ 76  ┆ 23             │\n",
       "│ 1651 ┆ 89  ┆ 21             │\n",
       "│ 1673 ┆ 76  ┆ 21             │\n",
       "│ 1677 ┆ 133 ┆ 19             │\n",
       "│ 1652 ┆ 90  ┆ 18             │\n",
       "│ 1672 ┆ 78  ┆ 18             │\n",
       "│ 1652 ┆ 91  ┆ 18             │\n",
       "└──────┴─────┴────────────────┘"
      ]
     },
     "execution_count": 69,
     "metadata": {},
     "output_type": "execute_result"
    }
   ],
   "source": [
    "df_repeats = arkeanos_data.group_by([\"x\", \"y\"]).agg(\n",
    "    pl.count(\"time_bin\").alias(\"time_bin_count\")  # Count how many times the pixel has appeared in time_bin\n",
    ").sort(\"time_bin_count\", descending=True)  # Sort by count in descending order\n",
    "\n",
    "df_repeats.head(10)"
   ]
  }
 ],
 "metadata": {
  "kernelspec": {
   "display_name": "Python 3",
   "language": "python",
   "name": "python3"
  },
  "language_info": {
   "codemirror_mode": {
    "name": "ipython",
    "version": 3
   },
   "file_extension": ".py",
   "mimetype": "text/x-python",
   "name": "python",
   "nbconvert_exporter": "python",
   "pygments_lexer": "ipython3",
   "version": "3.12.2"
  }
 },
 "nbformat": 4,
 "nbformat_minor": 2
}

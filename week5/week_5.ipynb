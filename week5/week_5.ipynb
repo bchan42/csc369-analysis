{
 "cells": [
  {
   "cell_type": "markdown",
   "metadata": {},
   "source": [
    "ideas about visuals??\n",
    "- Electric Light Orchestra (977, 1845)\n",
    "\n",
    "\"The logo for Electric Light Orchestra (a.k.a. ELO), a 70s and 80s classic rock group. When threatened by the black void, They allied themselves with the My Little Pony community to rebuild.\"\n",
    "\n",
    "- look at history between them (how long take draw)\n",
    "    - did they draw over each other, what interaction, etc.\n",
    "- why did they collab\n",
    "- explain artwork \n",
    "\n",
    "- B emoji logo"
   ]
  },
  {
   "cell_type": "markdown",
   "metadata": {},
   "source": [
    "ideas about dataset!\n",
    "\n",
    "- patterns?\n",
    "- user behavior between regions\n",
    "- collabs from specific communities? "
   ]
  }
 ],
 "metadata": {
  "language_info": {
   "name": "python"
  }
 },
 "nbformat": 4,
 "nbformat_minor": 2
}

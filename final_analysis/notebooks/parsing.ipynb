{
 "cells": [
  {
   "cell_type": "markdown",
   "metadata": {},
   "source": [
    "# OSM Parsing"
   ]
  },
  {
   "cell_type": "code",
   "execution_count": 1,
   "metadata": {},
   "outputs": [],
   "source": [
    "# imports \n",
    "import lxml.etree as ET # xml parser\n",
    "import pandas as pd # convert to parquet"
   ]
  },
  {
   "cell_type": "markdown",
   "metadata": {},
   "source": [
    "## Using osmium for filtering down dataset"
   ]
  },
  {
   "cell_type": "code",
   "execution_count": 2,
   "metadata": {},
   "outputs": [
    {
     "name": "stdout",
     "output_type": "stream",
     "text": [
      "File:\n",
      "  Name: data/north-america-latest.osm.pbf\n",
      "  Format: PBF\n",
      "  Compression: none\n",
      "  Size: 16799084065\n",
      "Header:\n",
      "  Bounding boxes:\n",
      "    (-180,5.57228,180,85.04177)\n",
      "  With history: no\n",
      "  Options:\n",
      "    generator=osmium/1.14.0\n",
      "    osmosis_replication_base_url=https://download.geofabrik.de/north-america-updates\n",
      "    osmosis_replication_sequence_number=4339\n",
      "    osmosis_replication_timestamp=2025-02-19T21:20:47Z\n",
      "    pbf_dense_nodes=true\n",
      "    pbf_optional_feature_0=Sort.Type_then_ID\n",
      "    sorting=Type_then_ID\n",
      "    timestamp=2025-02-19T21:20:47Z\n"
     ]
    }
   ],
   "source": [
    "# shows general metadata about file, including size, number of objects, and other useful information\n",
    "!osmium fileinfo data/north-america-latest.osm.pbf"
   ]
  },
  {
   "cell_type": "markdown",
   "metadata": {},
   "source": [
    "Above gives information that:\n",
    "\n",
    "- ~16.8 GB\n",
    "- bounding box represents the geographic bounding box for the data (min and max latitudes and longitudes for area covered in file)\n",
    "    - Longitude: -180° (west) to 180° (east)\n",
    "    - Latitude: ~5.57° to ~85.04° (north-south)"
   ]
  },
  {
   "cell_type": "code",
   "execution_count": 3,
   "metadata": {},
   "outputs": [
    {
     "name": "stdout",
     "output_type": "stream",
     "text": [
      "[======================================================================] 100% \n",
      "[======================================================================] 100% \n",
      "[======================================================================] 100% \n"
     ]
    }
   ],
   "source": [
    "# filters `north-america-latest.osm.pbf` file for: (SLO specific)\n",
    "\n",
    "# entirety of SLO (bounded box around SLO) (LONG1,LAT1,LONG2,LAT2)\n",
    "!osmium extract -b \"-120.7,35.2,-120.5,35.4\" data/north-america-latest.osm.pbf -o data/slo_places.osm.pbf\n",
    "\n",
    "# dining places in SLO (restaurant, cafe, fast food, bar/pub, food court)\n",
    "!osmium tags-filter data/slo_places.osm.pbf n/amenity=bar n/amenity=biergarten n/amenity=cafe n/amenity=fast_food n/amenity=food_court n/amenity=ice_cream n/amenity=pub n/amenity=restaurant n/amenity=bbq n/amenity=vending_machine -o data/slo_dining.osm.pbf\n",
    "\n",
    "# food places in SLO (dining and food shops)\n",
    "!osmium tags-filter data/slo_places.osm.pbf n/amenity=bar n/amenity=biergarten n/amenity=cafe n/amenity=fast_food n/amenity=food_court n/amenity=ice_cream n/amenity=pub n/amenity=restaurant n/amenity=bbq n/amenity=vending_machine n/shop=alcohol n/shop=bakery n/beverages n/shop=brewing_supplies n/shop=butcher n/shop=cheese n/shop=confectionery n/shop=convenience n/shop=dairy n/shop=farm n/shop=food n/shop=frozen_food n/shop=greengrocer n/shop=health_food n/shop=health_food n/shop=ice_cream n/shop=nuts n/shop=pasta n/shop=pastry n/shop=seafood n/shop=spices n/shop=tea n/shop=tortilla n/shop=water n/shop=wine -o data/slo_food.osm.pbf"
   ]
  },
  {
   "cell_type": "code",
   "execution_count": 4,
   "metadata": {},
   "outputs": [
    {
     "name": "stdout",
     "output_type": "stream",
     "text": [
      "[======================================================================] 100% \n",
      "[======================================================================] 100% \n",
      "[======================================================================] 100% \n"
     ]
    }
   ],
   "source": [
    "# filters `north-america-latest.osm.pbf` file for: (Davis specific)\n",
    "\n",
    "# entirety of Davis (bounded box around Davis)\n",
    "!osmium extract -b \"-121.85,38.45,-121.65,38.65\" data/north-america-latest.osm.pbf -o data/davis_places.osm.pbf\n",
    "\n",
    "# dining places in Davis (restaurant, cafe, fast food, bar/pub, food court)\n",
    "!osmium tags-filter data/davis_places.osm.pbf n/amenity=bar n/amenity=biergarten n/amenity=cafe n/amenity=fast_food n/amenity=food_court n/amenity=ice_cream n/amenity=pub n/amenity=restaurant n/amenity=bbq n/amenity=vending_machine -o data/davis_dining.osm.pbf\n",
    "\n",
    "# food places in Davis (dining and food shops)\n",
    "!osmium tags-filter data/davis_places.osm.pbf n/amenity=bar n/amenity=biergarten n/amenity=cafe n/amenity=fast_food n/amenity=food_court n/amenity=ice_cream n/amenity=pub n/amenity=restaurant n/amenity=bbq n/amenity=vending_machine n/shop=alcohol n/shop=bakery n/beverages n/shop=brewing_supplies n/shop=butcher n/shop=cheese n/shop=confectionery n/shop=convenience n/shop=dairy n/shop=farm n/shop=food n/shop=frozen_food n/shop=greengrocer n/shop=health_food n/shop=health_food n/shop=ice_cream n/shop=nuts n/shop=pasta n/shop=pastry n/shop=seafood n/shop=spices n/shop=tea n/shop=tortilla n/shop=water n/shop=wine -o data/davis_food.osm.pbf"
   ]
  },
  {
   "cell_type": "code",
   "execution_count": 5,
   "metadata": {},
   "outputs": [
    {
     "name": "stdout",
     "output_type": "stream",
     "text": [
      "[======================================================================] 100% \n",
      "[======================================================================] 100% \n",
      "[======================================================================] 100% \n"
     ]
    }
   ],
   "source": [
    "# filters `north-america-latest.osm.pbf` file for: (Athens, GA specific if have time UGA)\n",
    "\n",
    "# entirety of Athens (bounded box around Athens)\n",
    "!osmium extract -b \"-83.5,33.88,-83.3,34.05\" data/north-america-latest.osm.pbf -o data/athens_places.osm.pbf\n",
    "\n",
    "# dining places in Athens (restaurant, cafe, fast food, bar/pub, food court)\n",
    "!osmium tags-filter data/athens_places.osm.pbf n/amenity=bar n/amenity=biergarten n/amenity=cafe n/amenity=fast_food n/amenity=food_court n/amenity=ice_cream n/amenity=pub n/amenity=restaurant n/amenity=bbq n/amenity=vending_machine -o data/athens_dining.osm.pbf\n",
    "\n",
    "# food places in Athens (dining and food shops)\n",
    "!osmium tags-filter data/athens_places.osm.pbf n/amenity=bar n/amenity=biergarten n/amenity=cafe n/amenity=fast_food n/amenity=food_court n/amenity=ice_cream n/amenity=pub n/amenity=restaurant n/amenity=bbq n/amenity=vending_machine n/shop=alcohol n/shop=bakery n/beverages n/shop=brewing_supplies n/shop=butcher n/shop=cheese n/shop=confectionery n/shop=convenience n/shop=dairy n/shop=farm n/shop=food n/shop=frozen_food n/shop=greengrocer n/shop=health_food n/shop=health_food n/shop=ice_cream n/shop=nuts n/shop=pasta n/shop=pastry n/shop=seafood n/shop=spices n/shop=tea n/shop=tortilla n/shop=water n/shop=wine -o data/athens_food.osm.pbf"
   ]
  },
  {
   "cell_type": "code",
   "execution_count": 6,
   "metadata": {},
   "outputs": [
    {
     "name": "stdout",
     "output_type": "stream",
     "text": [
      "[======================================================================] 100% \n",
      "[======================================================================] 100% \n",
      "[======================================================================] 100% \n",
      "[======================================================================] 100% \n",
      "[======================================================================] 100% \n",
      "[======================================================================] 100% \n",
      "[======================================================================] 100% \n",
      "[======================================================================] 100% \n",
      "[======================================================================] 100% \n"
     ]
    }
   ],
   "source": [
    "# convert pbf to osm\n",
    "\n",
    "!osmium cat data/slo_places.osm.pbf -o data/slo_places.osm\n",
    "!osmium cat data/slo_dining.osm.pbf -o data/slo_dining.osm\n",
    "!osmium cat data/slo_food.osm.pbf -o data/slo_food.osm\n",
    "\n",
    "!osmium cat data/davis_places.osm.pbf -o data/davis_places.osm\n",
    "!osmium cat data/davis_dining.osm.pbf -o data/davis_dining.osm\n",
    "!osmium cat data/davis_food.osm.pbf -o data/davis_food.osm\n",
    "\n",
    "!osmium cat data/athens_places.osm.pbf -o data/athens_places.osm\n",
    "!osmium cat data/athens_dining.osm.pbf -o data/athens_dining.osm\n",
    "!osmium cat data/athens_food.osm.pbf -o data/athens_food.osm"
   ]
  },
  {
   "cell_type": "markdown",
   "metadata": {},
   "source": [
    "## Using XML parser to parse dataset into Parquet file"
   ]
  },
  {
   "cell_type": "markdown",
   "metadata": {},
   "source": [
    "- use xml parser\n",
    "- script to parse 'xml formatted' file\n",
    "    - extract only nodes\n",
    "        - extract timestamp (?)\n",
    "        - extract lat & lon\n",
    "    - save tags (just option to have these, can be null if not)\n",
    "        - have to have `name`\n",
    "        - have to have food-related `amenity` or food-related `shop` or food-related `highway`\n",
    "            - `amenity `: bar, biergarten, cafe, fast_food, food_court, ice_cream, pub, restaurant\n",
    "            - `amenity`: bbq (built for grilling in public)\n",
    "            - `amentity`: vending_machine\n",
    "            - `shop`: alcohol, bakery, beverages, breweing_supplies, butcher, cheese, chocolate, coffee, confectionery, convenience, dairy, farm, food, frozen_food, greengrocer, health_food, ice_cream, nuts, pasta, pastry, seafood, spices, tea, tortilla, water, wine\n",
    "            - `highway`: services\n",
    "\n",
    "        - doesn't have to have `cuisine` (but save in parquet if there is)\n",
    "        - doesn't have to have `brand` (but save to parquet if there is)"
   ]
  },
  {
   "cell_type": "code",
   "execution_count": 9,
   "metadata": {},
   "outputs": [],
   "source": [
    "# script to parse xml\n",
    "\n",
    "def extract_osm_nodes(osm_file, tags_extract):\n",
    "\n",
    "    context = ET.iterparse(osm_file, events=['start', 'end'])  # initialize xml parser\n",
    "    nodes = []  # store all nodes with tags\n",
    "    node_data = None  # initialize node_data outside of the loop\n",
    "\n",
    "    for event, elem in context:\n",
    "        \n",
    "        # process nodes\n",
    "        if event == 'start' and elem.tag == 'node':\n",
    "            node_data = {\n",
    "                'id': elem.get('id'),\n",
    "                'timestamp': pd.to_datetime(elem.get('timestamp')), # convert to datetime object\n",
    "                'lat': float(elem.get('lat')),\n",
    "                'lon': float(elem.get('lon')) # convert to float (numerical data type will give issues for computation)\n",
    "            }\n",
    "            # print(f\"Processing node {node_data['id']}\")  # debug print\n",
    "        \n",
    "        # process tags within each node\n",
    "        if event == 'start' and elem.tag == 'tag':\n",
    "            tag_key = elem.get('k')\n",
    "            tag_value = elem.get('v')\n",
    "            # print(f\"tag_key: {tag_key}, tag_value: {tag_value}\") # debug\n",
    "\n",
    "            if tag_key in tags_extract: # only store specific tag\n",
    "                node_data[tag_key] = tag_value\n",
    "                # print(f\"Added {tag_key}: {node_data[tag_key]}\")  # debug print\n",
    "\n",
    "        if event == 'end' and elem.tag == 'node' and node_data: # append when node fully processed\n",
    "            nodes.append(node_data)\n",
    "            node_data = None  # reset for next node\n",
    "\n",
    "        elem.clear()  # save memory\n",
    "\n",
    "    return nodes"
   ]
  },
  {
   "cell_type": "code",
   "execution_count": 10,
   "metadata": {},
   "outputs": [],
   "source": [
    "# repeat ^^ with slo, davis, athens\n",
    "\n",
    "tags_extract = ['name', 'amenity', 'shop', 'cuisine', 'brand']\n",
    "\n",
    "osm_files = [\n",
    "    'data/slo_food.osm', 'data/slo_dining.osm', 'data/davis_food.osm', 'data/davis_dining.osm', 'data/athens_food.osm', 'data/athens_dining.osm'\n",
    "]\n",
    "\n",
    "for osm_file in osm_files:\n",
    "    nodes = extract_osm_nodes(osm_file, tags_extract)\n",
    "\n",
    "    osm_df = pd.DataFrame(nodes)\n",
    "    parquet_file = osm_file.replace('data/', '').replace('.osm', '.parquet')\n",
    "    osm_df.to_parquet(parquet_file, engine=\"pyarrow\", index=False)"
   ]
  }
 ],
 "metadata": {
  "kernelspec": {
   "display_name": "Python 3",
   "language": "python",
   "name": "python3"
  },
  "language_info": {
   "codemirror_mode": {
    "name": "ipython",
    "version": 3
   },
   "file_extension": ".py",
   "mimetype": "text/x-python",
   "name": "python",
   "nbconvert_exporter": "python",
   "pygments_lexer": "ipython3",
   "version": "3.12.2"
  }
 },
 "nbformat": 4,
 "nbformat_minor": 2
}
